{
 "cells": [
  {
   "cell_type": "code",
   "execution_count": 25,
   "metadata": {},
   "outputs": [],
   "source": [
    "% matplotlib inline\n",
    "import airsim\n",
    "import cv2\n",
    "import numpy as np\n",
    "import matplotlib.pyplot as plt\n",
    "import pandas as pd\n",
    "import ast\n",
    "import re\n",
    "import os"
   ]
  },
  {
   "cell_type": "code",
   "execution_count": 2,
   "metadata": {},
   "outputs": [
    {
     "name": "stdout",
     "output_type": "stream",
     "text": [
      "Connected!\n",
      "Client Ver:1 (Min Req: 1), Server Ver:1 (Min Req: 1)\n",
      "\n",
      "Retrieved images: %d 2\n"
     ]
    },
    {
     "name": "stderr",
     "output_type": "stream",
     "text": [
      "/home/ran/miniconda3/lib/python3.6/site-packages/ipykernel_launcher.py:11: DeprecationWarning: The binary mode of fromstring is deprecated, as it behaves surprisingly on unicode inputs. Use frombuffer instead\n",
      "  # This is added back by InteractiveShellApp.init_path()\n"
     ]
    },
    {
     "data": {
      "text/plain": [
       "<matplotlib.image.AxesImage at 0x7f45d7e877b8>"
      ]
     },
     "execution_count": 2,
     "metadata": {},
     "output_type": "execute_result"
    },
    {
     "data": {
      "image/png": "[encoded data removed]",
      "text/plain": [
       "<Figure size 432x288 with 2 Axes>"
      ]
     },
     "metadata": {
      "needs_background": "light"
     },
     "output_type": "display_data"
    }
   ],
   "source": [
    "# do not run this code !!!!\n",
    "# there is a bug, which will block the following cells when run the client connection.\n",
    "\n",
    "client = airsim.VehicleClient()\n",
    "client.confirmConnection()\n",
    "responses = client.simGetImages([\n",
    "    airsim.ImageRequest(\"0\", airsim.ImageType.Segmentation, True), #depth in perspective projection\n",
    "    airsim.ImageRequest(\"0\", airsim.ImageType.Segmentation, False, False)])  #scene vision image in uncompressed RGBA array\n",
    "print('Retrieved images: %d', len(responses))\n",
    "r0 = responses[0]\n",
    "r1 = responses[1]\n",
    "img0 = np.array(r0.image_data_float)\n",
    "img0 = img0.reshape(r0.height, r0.width)\n",
    "img1 = np.fromstring(r1.image_data_uint8, dtype=np.uint8) #get numpy array\n",
    "img1 = img0.reshape(r1.height, r1.width)\n",
    "plt.subplot(121)\n",
    "plt.imshow(img0)\n",
    "plt.subplot(122)\n",
    "plt.imshow(img1)"
   ]
  },
  {
   "cell_type": "code",
   "execution_count": 2,
   "metadata": {},
   "outputs": [
    {
     "name": "stdout",
     "output_type": "stream",
     "text": [
      "depth.png\t    requirements.txt\t  seg_rgb.txt\r\n",
      "keras_segmentation  rgb.png\t\t  setup.cfg\r\n",
      "LICENSE.txt\t    sample_images\t  setup.py\r\n",
      "mask_img.png\t    scripts\t\t  test\r\n",
      "out.png\t\t    segl.png\t\t  test_img.png\r\n",
      "README.md\t    segment_airsim.ipynb  test_pretrained_nets.ipynb\r\n"
     ]
    }
   ],
   "source": [
    "!ls"
   ]
  },
  {
   "cell_type": "code",
   "execution_count": 3,
   "metadata": {},
   "outputs": [],
   "source": [
    "seg_img = cv2.imread(\"segl.png\")"
   ]
  },
  {
   "cell_type": "code",
   "execution_count": 4,
   "metadata": {},
   "outputs": [
    {
     "data": {
      "text/plain": [
       "array([234,  20, 250], dtype=uint8)"
      ]
     },
     "execution_count": 4,
     "metadata": {},
     "output_type": "execute_result"
    }
   ],
   "source": [
    "seg_img[0,0,:]"
   ]
  },
  {
   "cell_type": "code",
   "execution_count": 5,
   "metadata": {},
   "outputs": [],
   "source": [
    "def list_encode(list):\n",
    "    res = ''\n",
    "    for ele in list:\n",
    "        res += '#{}'.format(ele)\n",
    "    return res"
   ]
  },
  {
   "cell_type": "code",
   "execution_count": 6,
   "metadata": {},
   "outputs": [],
   "source": [
    "seg_rgb_dict = {}\n",
    "with open(\"seg_rgb.txt\") as f:\n",
    "    for line in f:\n",
    "        (key, val) = line.split('\\t')\n",
    "        val_list = ast.literal_eval(re.sub('\\s+', '', val))\n",
    "        seg_rgb_dict[list_encode(val_list)] = int(key)\n",
    "#         seg_rgb_dict[int(key)] = ast.literal_eval(re.sub('\\s+', '', val))"
   ]
  },
  {
   "cell_type": "code",
   "execution_count": 7,
   "metadata": {},
   "outputs": [
    {
     "data": {
      "text/plain": [
       "13"
      ]
     },
     "execution_count": 7,
     "metadata": {},
     "output_type": "execute_result"
    }
   ],
   "source": [
    "seg_rgb_dict['#156#198#23']"
   ]
  },
  {
   "cell_type": "code",
   "execution_count": 8,
   "metadata": {},
   "outputs": [],
   "source": [
    "(height, width, channel) = np.shape(seg_img)"
   ]
  },
  {
   "cell_type": "code",
   "execution_count": 9,
   "metadata": {},
   "outputs": [],
   "source": [
    "flat_seg_img = seg_img.reshape((-1,3))"
   ]
  },
  {
   "cell_type": "code",
   "execution_count": 10,
   "metadata": {},
   "outputs": [
    {
     "data": {
      "text/plain": [
       "(36864, 3)"
      ]
     },
     "execution_count": 10,
     "metadata": {},
     "output_type": "execute_result"
    }
   ],
   "source": [
    "np.shape(flat_seg_img)"
   ]
  },
  {
   "cell_type": "code",
   "execution_count": 11,
   "metadata": {},
   "outputs": [],
   "source": [
    "def img2map_coding(img):\n",
    "    '''\n",
    "    Note that the encoded image is the 1d array, should reshape back\n",
    "    into (height, width) form\n",
    "    '''\n",
    "    local_encoding = []\n",
    "    local_img = img.reshape((-1,3))\n",
    "    for ele in local_img:\n",
    "        local_encoding.append(list_encode(list(ele)))\n",
    "    return local_encoding"
   ]
  },
  {
   "cell_type": "code",
   "execution_count": 12,
   "metadata": {},
   "outputs": [],
   "source": [
    "encoded_img = img2map_coding(seg_img)"
   ]
  },
  {
   "cell_type": "code",
   "execution_count": 13,
   "metadata": {},
   "outputs": [
    {
     "data": {
      "text/plain": [
       "'#234#20#250'"
      ]
     },
     "execution_count": 13,
     "metadata": {},
     "output_type": "execute_result"
    }
   ],
   "source": [
    "encoded_img[0]"
   ]
  },
  {
   "cell_type": "code",
   "execution_count": 14,
   "metadata": {},
   "outputs": [],
   "source": [
    "mask_img = [seg_rgb_dict[e] for e in encoded_img]"
   ]
  },
  {
   "cell_type": "code",
   "execution_count": 15,
   "metadata": {},
   "outputs": [
    {
     "data": {
      "text/plain": [
       "36864"
      ]
     },
     "execution_count": 15,
     "metadata": {},
     "output_type": "execute_result"
    }
   ],
   "source": [
    "# np.reshape((np.shape(seg_img)[0], np.shape(seg_img[1])), mask_img)\n",
    "mask_img = np.array(mask_img)\n",
    "len(mask_img)"
   ]
  },
  {
   "cell_type": "code",
   "execution_count": 16,
   "metadata": {},
   "outputs": [],
   "source": [
    "mask_img = mask_img.reshape((height, width))"
   ]
  },
  {
   "cell_type": "code",
   "execution_count": 17,
   "metadata": {},
   "outputs": [
    {
     "data": {
      "text/plain": [
       "(144, 256)"
      ]
     },
     "execution_count": 17,
     "metadata": {},
     "output_type": "execute_result"
    }
   ],
   "source": [
    "mask_img.shape"
   ]
  },
  {
   "cell_type": "code",
   "execution_count": 19,
   "metadata": {},
   "outputs": [
    {
     "data": {
      "text/plain": [
       "<matplotlib.image.AxesImage at 0x7f1a8067e828>"
      ]
     },
     "execution_count": 19,
     "metadata": {},
     "output_type": "execute_result"
    },
    {
     "data": {
      "image/png": "[encoded data removed]",
      "text/plain": [
       "<Figure size 432x288 with 1 Axes>"
      ]
     },
     "metadata": {
      "needs_background": "light"
     },
     "output_type": "display_data"
    }
   ],
   "source": [
    "plt.imshow(mask_img)"
   ]
  },
  {
   "cell_type": "code",
   "execution_count": 20,
   "metadata": {},
   "outputs": [
    {
     "data": {
      "text/plain": [
       "True"
      ]
     },
     "execution_count": 20,
     "metadata": {},
     "output_type": "execute_result"
    }
   ],
   "source": [
    "cv2.imwrite('mask_img.png', mask_img)"
   ]
  },
  {
   "cell_type": "code",
   "execution_count": 21,
   "metadata": {},
   "outputs": [
    {
     "name": "stdout",
     "output_type": "stream",
     "text": [
      "depth.png\t    requirements.txt\t  seg_rgb.txt\r\n",
      "keras_segmentation  rgb.png\t\t  setup.cfg\r\n",
      "LICENSE.txt\t    sample_images\t  setup.py\r\n",
      "mask_img.png\t    scripts\t\t  test\r\n",
      "out.png\t\t    segl.png\t\t  test_img.png\r\n",
      "README.md\t    segment_airsim.ipynb  test_pretrained_nets.ipynb\r\n"
     ]
    }
   ],
   "source": [
    "!ls"
   ]
  },
  {
   "cell_type": "code",
   "execution_count": 22,
   "metadata": {},
   "outputs": [],
   "source": [
    "mask_dir = \"./test/example_dataset/annotations_prepped_train\""
   ]
  },
  {
   "cell_type": "code",
   "execution_count": 23,
   "metadata": {},
   "outputs": [],
   "source": [
    "test_saved_data = cv2.imread('mask_img.png')"
   ]
  },
  {
   "cell_type": "code",
   "execution_count": 24,
   "metadata": {},
   "outputs": [
    {
     "data": {
      "text/plain": [
       "(144, 256, 3)"
      ]
     },
     "execution_count": 24,
     "metadata": {},
     "output_type": "execute_result"
    }
   ],
   "source": [
    "test_saved_data.shape"
   ]
  },
  {
   "cell_type": "code",
   "execution_count": 26,
   "metadata": {},
   "outputs": [
    {
     "data": {
      "text/plain": [
       "(360, 480, 3)"
      ]
     },
     "execution_count": 26,
     "metadata": {},
     "output_type": "execute_result"
    }
   ],
   "source": [
    "test_msk_fname = \"0001TP_006690.png\"\n",
    "example_msk_img = cv2.imread(os.path.join(mask_dir, test_msk_fname))\n",
    "example_msk_img.shape"
   ]
  },
  {
   "cell_type": "code",
   "execution_count": null,
   "metadata": {},
   "outputs": [],
   "source": []
  }
 ],
 "metadata": {
  "kernelspec": {
   "display_name": "Python 3",
   "language": "python",
   "name": "python3"
  },
  "language_info": {
   "codemirror_mode": {
    "name": "ipython",
    "version": 3
   },
   "file_extension": ".py",
   "mimetype": "text/x-python",
   "name": "python",
   "nbconvert_exporter": "python",
   "pygments_lexer": "ipython3",
   "version": "3.6.8"
  }
 },
 "nbformat": 4,
 "nbformat_minor": 2
}
